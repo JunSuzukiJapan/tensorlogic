{
 "cells": [
  {
   "cell_type": "markdown",
   "metadata": {},
   "source": [
    "# TensorLogic Getting Started\n",
    "\n",
    "Welcome to TensorLogic! This notebook demonstrates the basics of tensor operations and Python integration."
   ]
  },
  {
   "cell_type": "markdown",
   "metadata": {},
   "source": [
    "## 1. Basic Tensor Operations"
   ]
  },
  {
   "cell_type": "code",
   "execution_count": null,
   "metadata": {},
   "source": [
    "main {\n",
    "    // Declare tensors\n",
    "    tensor x: float16[3] = [1.0, 2.0, 3.0]\n",
    "    tensor y: float16[3] = [4.0, 5.0, 6.0]\n",
    "    \n",
    "    print(\"x =\", x)\n",
    "    print(\"y =\", y)\n",
    "}"
   ],
   "outputs": []
  },
  {
   "cell_type": "markdown",
   "metadata": {},
   "source": [
    "## 2. Python Integration"
   ]
  },
  {
   "cell_type": "code",
   "execution_count": null,
   "metadata": {},
   "source": [
    "main {\n",
    "    // Import Python libraries\n",
    "    python import numpy as np\n",
    "    \n",
    "    tensor data: float16[5] = [1.0, 2.0, 3.0, 4.0, 5.0]\n",
    "    \n",
    "    // Use NumPy functions\n",
    "    tensor mean: float16[1] = python.call(\"np.mean\", data)\n",
    "    tensor std: float16[1] = python.call(\"np.std\", data)\n",
    "    \n",
    "    print(\"Data:\", data)\n",
    "    print(\"Mean:\", mean)\n",
    "    print(\"Std:\", std)\n",
    "}"
   ],
   "outputs": []
  },
  {
   "cell_type": "markdown",
   "metadata": {},
   "source": [
    "## 3. Variable Sharing with Python\n",
    "\n",
    "You can share variables between TensorLogic and Python:"
   ]
  },
  {
   "cell_type": "code",
   "execution_count": null,
   "metadata": {},
   "source": [
    "main {\n",
    "    tensor result: float16[3] = [10.0, 20.0, 30.0]\n",
    "    print(\"Result from TensorLogic:\", result)\n",
    "}"
   ],
   "outputs": []
  },
  {
   "cell_type": "markdown",
   "metadata": {},
   "source": [
    "## 4. Advanced Operations"
   ]
  },
  {
   "cell_type": "code",
   "execution_count": null,
   "metadata": {},
   "source": [
    "main {\n",
    "    python import numpy as np\n",
    "    \n",
    "    // Matrix operations\n",
    "    tensor matrix: float16[2, 3] = [\n",
    "        [1.0, 2.0, 3.0],\n",
    "        [4.0, 5.0, 6.0]\n",
    "    ]\n",
    "    \n",
    "    // Transpose\n",
    "    tensor transposed: float16[3, 2] = python.call(\"np.transpose\", matrix)\n",
    "    \n",
    "    print(\"Matrix:\", matrix)\n",
    "    print(\"Transposed:\", transposed)\n",
    "}"
   ],
   "outputs": []
  }
 ],
 "metadata": {
  "kernelspec": {
   "display_name": "TensorLogic",
   "language": "tensorlogic",
   "name": "tensorlogic"
  },
  "language_info": {
   "name": "tensorlogic",
   "mimetype": "text/x-tensorlogic",
   "file_extension": ".tl",
   "codemirror_mode": "tensorlogic"
  }
 },
 "nbformat": 4,
 "nbformat_minor": 4
}
